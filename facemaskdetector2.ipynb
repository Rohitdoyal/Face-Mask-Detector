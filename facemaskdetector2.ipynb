{
  "nbformat": 4,
  "nbformat_minor": 0,
  "metadata": {
    "colab": {
      "name": "facemaskdetector2.ipynb",
      "provenance": [],
      "collapsed_sections": []
    },
    "kernelspec": {
      "name": "python3",
      "display_name": "Python 3"
    },
    "language_info": {
      "name": "python"
    }
  },
  "cells": [
    {
      "cell_type": "markdown",
      "metadata": {
        "id": "6TnihHNH45xp"
      },
      "source": [
        "train the model "
      ]
    },
    {
      "cell_type": "code",
      "metadata": {
        "colab": {
          "base_uri": "https://localhost:8080/"
        },
        "id": "bZf4jTcNUDbd",
        "outputId": "08b7c867-6224-4a8a-d682-c60c256e59f2"
      },
      "source": [
        "from google.colab import drive\n",
        "drive.mount('/content/drive')"
      ],
      "execution_count": null,
      "outputs": [
        {
          "output_type": "stream",
          "text": [
            "Mounted at /content/drive\n"
          ],
          "name": "stdout"
        }
      ]
    },
    {
      "cell_type": "code",
      "metadata": {
        "id": "Gv3om46_UVUs"
      },
      "source": [
        "path = \"/content/drive/MyDrive/Projectsfolder/machinelearning/preprocessdata/\""
      ],
      "execution_count": null,
      "outputs": []
    },
    {
      "cell_type": "code",
      "metadata": {
        "id": "sXcyoYVvUVR-"
      },
      "source": [
        "\n",
        "import numpy as np\n",
        "#load the data \n",
        "data=np.load(path+'data.npy')\n",
        "target=np.load(path+'target.npy')"
      ],
      "execution_count": null,
      "outputs": []
    },
    {
      "cell_type": "code",
      "metadata": {
        "id": "mcIV0xVwVLqG"
      },
      "source": [
        "from tensorflow.keras.models import Sequential\n",
        "from tensorflow.keras.layers import Dense,Activation,Flatten,Dropout\n",
        "from tensorflow.keras.layers import Conv2D,MaxPooling2D\n",
        "from tensorflow.keras.callbacks import ModelCheckpoint"
      ],
      "execution_count": null,
      "outputs": []
    },
    {
      "cell_type": "code",
      "metadata": {
        "id": "bi4Z0cKGVLml"
      },
      "source": [
        "model=Sequential()\n",
        "\n",
        "\n",
        "#The first CNN layer followed by Relu and MaxPooling layers\n",
        "model.add(Conv2D(200,(3,3),input_shape=data.shape[1:]))\n",
        "model.add(Activation('relu'))\n",
        "model.add(MaxPooling2D(pool_size=(2,2)))\n",
        "\n",
        "\n",
        "#The second convolution layer followed by Relu and MaxPooling layers\n",
        "model.add(Conv2D(100,(3,3)))\n",
        "model.add(Activation('relu'))\n",
        "model.add(MaxPooling2D(pool_size=(2,2)))\n",
        "\n",
        "#Flatten layer to stack the output convolutions from second convolution layer\n",
        "model.add(Flatten())\n",
        "model.add(Dropout(0.5))\n",
        "\n",
        "#Dense layer of50 neurons\n",
        "model.add(Dense(50,activation='relu'))\n",
        "\n",
        "#final layer two output \n",
        "model.add(Dense(2,activation='softmax'))\n",
        "\n",
        "model.compile(loss='categorical_crossentropy',optimizer='adam',metrics=['accuracy'])"
      ],
      "execution_count": null,
      "outputs": []
    },
    {
      "cell_type": "code",
      "metadata": {
        "id": "glPSLqQ6VLh1"
      },
      "source": [
        "from sklearn.model_selection import train_test_split\n",
        "train_data,test_data,train_target,test_target=train_test_split(data,target,test_size=0.1)"
      ],
      "execution_count": null,
      "outputs": []
    },
    {
      "cell_type": "code",
      "metadata": {
        "colab": {
          "base_uri": "https://localhost:8080/"
        },
        "id": "rwwE7CLjUVPU",
        "outputId": "f490aa64-abc1-4bd3-d1aa-1dbd3132d1d7"
      },
      "source": [
        "checkpoint = ModelCheckpoint('model-{epoch:03d}.model',monitor='val_loss',verbose=0,save_best_only=True,mode='auto')\n",
        "history=model.fit(train_data,train_target,epochs=20,callbacks=[checkpoint],validation_split=0.2)"
      ],
      "execution_count": null,
      "outputs": [
        {
          "output_type": "stream",
          "text": [
            "Epoch 1/20\n",
            "170/170 [==============================] - 403s 2s/step - loss: 0.6298 - accuracy: 0.6489 - val_loss: 0.5539 - val_accuracy: 0.7007\n",
            "INFO:tensorflow:Assets written to: model-001.model/assets\n",
            "Epoch 2/20\n",
            "170/170 [==============================] - 399s 2s/step - loss: 0.4968 - accuracy: 0.7627 - val_loss: 0.4243 - val_accuracy: 0.8059\n",
            "INFO:tensorflow:Assets written to: model-002.model/assets\n",
            "Epoch 3/20\n",
            "170/170 [==============================] - 398s 2s/step - loss: 0.3667 - accuracy: 0.8358 - val_loss: 0.4055 - val_accuracy: 0.8147\n",
            "INFO:tensorflow:Assets written to: model-003.model/assets\n",
            "Epoch 4/20\n",
            "170/170 [==============================] - 399s 2s/step - loss: 0.2853 - accuracy: 0.8773 - val_loss: 0.3513 - val_accuracy: 0.8456\n",
            "INFO:tensorflow:Assets written to: model-004.model/assets\n",
            "Epoch 5/20\n",
            "170/170 [==============================] - 399s 2s/step - loss: 0.2322 - accuracy: 0.9034 - val_loss: 0.3259 - val_accuracy: 0.8544\n",
            "INFO:tensorflow:Assets written to: model-005.model/assets\n",
            "Epoch 6/20\n",
            "170/170 [==============================] - 394s 2s/step - loss: 0.1853 - accuracy: 0.9233 - val_loss: 0.3237 - val_accuracy: 0.8632\n",
            "INFO:tensorflow:Assets written to: model-006.model/assets\n",
            "Epoch 7/20\n",
            "170/170 [==============================] - 395s 2s/step - loss: 0.1481 - accuracy: 0.9415 - val_loss: 0.3146 - val_accuracy: 0.8706\n",
            "INFO:tensorflow:Assets written to: model-007.model/assets\n",
            "Epoch 8/20\n",
            "170/170 [==============================] - 394s 2s/step - loss: 0.1206 - accuracy: 0.9507 - val_loss: 0.3594 - val_accuracy: 0.8735\n",
            "Epoch 9/20\n",
            "170/170 [==============================] - 395s 2s/step - loss: 0.0925 - accuracy: 0.9651 - val_loss: 0.3496 - val_accuracy: 0.8743\n",
            "Epoch 10/20\n",
            "170/170 [==============================] - 392s 2s/step - loss: 0.0840 - accuracy: 0.9684 - val_loss: 0.4285 - val_accuracy: 0.8551\n",
            "Epoch 11/20\n",
            "170/170 [==============================] - 389s 2s/step - loss: 0.0657 - accuracy: 0.9759 - val_loss: 0.4040 - val_accuracy: 0.8949\n",
            "Epoch 12/20\n",
            "170/170 [==============================] - 393s 2s/step - loss: 0.0668 - accuracy: 0.9772 - val_loss: 0.3856 - val_accuracy: 0.8875\n",
            "Epoch 13/20\n",
            "170/170 [==============================] - 391s 2s/step - loss: 0.0518 - accuracy: 0.9818 - val_loss: 0.4736 - val_accuracy: 0.8691\n",
            "Epoch 14/20\n",
            "170/170 [==============================] - 391s 2s/step - loss: 0.0543 - accuracy: 0.9822 - val_loss: 0.4642 - val_accuracy: 0.8743\n",
            "Epoch 15/20\n",
            "170/170 [==============================] - 391s 2s/step - loss: 0.0512 - accuracy: 0.9833 - val_loss: 0.4786 - val_accuracy: 0.8897\n",
            "Epoch 16/20\n",
            "170/170 [==============================] - 391s 2s/step - loss: 0.0468 - accuracy: 0.9833 - val_loss: 0.5268 - val_accuracy: 0.8779\n",
            "Epoch 17/20\n",
            "170/170 [==============================] - 388s 2s/step - loss: 0.0484 - accuracy: 0.9840 - val_loss: 0.4852 - val_accuracy: 0.8757\n",
            "Epoch 18/20\n",
            "170/170 [==============================] - 388s 2s/step - loss: 0.0339 - accuracy: 0.9904 - val_loss: 0.5065 - val_accuracy: 0.8772\n",
            "Epoch 19/20\n",
            "170/170 [==============================] - 389s 2s/step - loss: 0.0301 - accuracy: 0.9886 - val_loss: 0.5101 - val_accuracy: 0.8897\n",
            "Epoch 20/20\n",
            "170/170 [==============================] - 392s 2s/step - loss: 0.0358 - accuracy: 0.9899 - val_loss: 0.4983 - val_accuracy: 0.8846\n"
          ],
          "name": "stdout"
        }
      ]
    },
    {
      "cell_type": "code",
      "metadata": {
        "id": "BOQU6n4nUVMM"
      },
      "source": [
        ""
      ],
      "execution_count": null,
      "outputs": []
    },
    {
      "cell_type": "markdown",
      "metadata": {
        "id": "hnTQQkdjXaaj"
      },
      "source": [
        "visulation"
      ]
    },
    {
      "cell_type": "code",
      "metadata": {
        "colab": {
          "base_uri": "https://localhost:8080/",
          "height": 279
        },
        "id": "93rLFcvSUVHN",
        "outputId": "74d99ee0-d793-4524-f47c-c2fff5bba4cd"
      },
      "source": [
        "from matplotlib import pyplot as plt\n",
        "\n",
        "plt.plot(history.history['loss'],'r',label='training loss')\n",
        "plt.plot(history.history['val_loss'],label='validation loss')\n",
        "plt.xlabel('# epochs')\n",
        "plt.ylabel('loss')\n",
        "plt.legend()\n",
        "plt.show()"
      ],
      "execution_count": null,
      "outputs": [
        {
          "output_type": "display_data",
          "data": {
            "image/png": "[encoded data removed]",
            "text/plain": [
              "<Figure size 432x288 with 1 Axes>"
            ]
          },
          "metadata": {
            "tags": [],
            "needs_background": "light"
          }
        }
      ]
    },
    {
      "cell_type": "code",
      "metadata": {
        "colab": {
          "base_uri": "https://localhost:8080/",
          "height": 279
        },
        "id": "LH2i__MyXh5r",
        "outputId": "1ff433b4-64bb-4486-94d5-5b44a97bc322"
      },
      "source": [
        "plt.plot(history.history['accuracy'],'r',label='training accuracy')\n",
        "plt.plot(history.history['val_accuracy'],label='validation accuracy')\n",
        "plt.xlabel('# epochs')\n",
        "plt.ylabel('loss')\n",
        "plt.legend()\n",
        "plt.show()"
      ],
      "execution_count": null,
      "outputs": [
        {
          "output_type": "display_data",
          "data": {
            "image/png": "[encoded data removed]",
            "text/plain": [
              "<Figure size 432x288 with 1 Axes>"
            ]
          },
          "metadata": {
            "tags": [],
            "needs_background": "light"
          }
        }
      ]
    },
    {
      "cell_type": "code",
      "metadata": {
        "id": "az80IpiJXh2O"
      },
      "source": [
        ""
      ],
      "execution_count": null,
      "outputs": []
    },
    {
      "cell_type": "code",
      "metadata": {
        "colab": {
          "base_uri": "https://localhost:8080/"
        },
        "id": "I54pSepBXhxV",
        "outputId": "817b70f5-76a6-42a4-d83c-dd4f5e217ccd"
      },
      "source": [
        "print(model.evaluate(test_data,test_target))"
      ],
      "execution_count": null,
      "outputs": [
        {
          "output_type": "stream",
          "text": [
            "24/24 [==============================] - 13s 557ms/step - loss: 0.3861 - accuracy: 0.8942\n",
            "[0.38612687587738037, 0.8941798806190491]\n"
          ],
          "name": "stdout"
        }
      ]
    },
    {
      "cell_type": "code",
      "metadata": {
        "id": "LPyPJRq--UoL"
      },
      "source": [
        "modelpath = \"/content/drive/MyDrive/Projectsfolder/machinelearning/modelsave/\""
      ],
      "execution_count": null,
      "outputs": []
    },
    {
      "cell_type": "code",
      "metadata": {
        "id": "4H0eXkPn-UlC"
      },
      "source": [
        "from keras.models import model_from_json "
      ],
      "execution_count": null,
      "outputs": []
    },
    {
      "cell_type": "code",
      "metadata": {
        "id": "x9PyrqAl-Uhj"
      },
      "source": [
        "json = model.to_json()\n",
        "with open(\"model.json\",\"w\") as json_file:\n",
        "  json_file.write(json)"
      ],
      "execution_count": null,
      "outputs": []
    },
    {
      "cell_type": "code",
      "metadata": {
        "id": "jUQq-3eQ_sb-"
      },
      "source": [
        "json = model.to_json()\n",
        "with open(modelpath+\"model.json\",\"w\") as json_file:\n",
        "  json_file.write(json)"
      ],
      "execution_count": null,
      "outputs": []
    },
    {
      "cell_type": "code",
      "metadata": {
        "colab": {
          "base_uri": "https://localhost:8080/"
        },
        "id": "tMGcE8tNAN_Q",
        "outputId": "c1210a30-47a2-4a5f-806c-e24c72a2cf33"
      },
      "source": [
        "!mkdir -p saved_model\n",
        "model.save(modelpath+'saved_model/my_model')\n",
        "model.save('savemodel.model')"
      ],
      "execution_count": null,
      "outputs": [
        {
          "output_type": "stream",
          "text": [
            "INFO:tensorflow:Assets written to: /content/drive/MyDrive/Projectsfolder/machinelearning/modelsave/saved_model/my_model/assets\n",
            "INFO:tensorflow:Assets written to: savemodel.model/assets\n"
          ],
          "name": "stdout"
        }
      ]
    },
    {
      "cell_type": "code",
      "metadata": {
        "colab": {
          "base_uri": "https://localhost:8080/"
        },
        "id": "5-2cRvEAaEgW",
        "outputId": "cd968029-3392-4d3c-e3a1-7b4891b9292d"
      },
      "source": [
        "model.save(modelpath+'savetrainmodel.model')"
      ],
      "execution_count": null,
      "outputs": [
        {
          "output_type": "stream",
          "text": [
            "INFO:tensorflow:Assets written to: /content/drive/MyDrive/Projectsfolder/machinelearning/modelsave/savetrainmodel.model/assets\n"
          ],
          "name": "stdout"
        }
      ]
    },
    {
      "cell_type": "code",
      "metadata": {
        "id": "oTCzZFSrIVFz"
      },
      "source": [
        "model.save(modelpath+\"model_save.h5\")\n",
        "model.save_weights(modelpath+\"model_weights.h5\")"
      ],
      "execution_count": null,
      "outputs": []
    },
    {
      "cell_type": "code",
      "metadata": {
        "id": "FOnDu0OXQwMN"
      },
      "source": [
        ""
      ],
      "execution_count": null,
      "outputs": []
    }
  ]
}